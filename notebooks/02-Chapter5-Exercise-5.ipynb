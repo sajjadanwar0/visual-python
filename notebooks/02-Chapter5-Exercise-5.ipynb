{
 "cells": [
  {
   "cell_type": "code",
   "execution_count": null,
   "metadata": {
    "collapsed": true
   },
   "outputs": [],
   "source": []
  },
  {
   "cell_type": "markdown",
   "source": [
    "#### Seaborn\n",
    "##### Pros:\n",
    "1) Sophisticated data analysis  tools\n",
    "2) Customizable with multiple APIs\n",
    "3) Fast for exploratory analysis\n",
    "4) Visually Appealing plots\n",
    "\n",
    "\n",
    "##### Cons:\n",
    "1) Not interactive\n",
    "2) Some customizations can be difficult\n",
    "\n",
    "\n",
    "\n",
    "##### Recommendation:\n",
    "1) Great tool for sophisticated exploratory analysis\n",
    "2) Take some time to master the API\n",
    "3) use themes and matplotlib for customizations when needed\n",
    "4) Evaluate other tools when interactivity is important\n",
    "5)\n",
    "\n"
   ],
   "metadata": {
    "collapsed": false
   }
  }
 ],
 "metadata": {
  "kernelspec": {
   "display_name": "Python 3",
   "language": "python",
   "name": "python3"
  },
  "language_info": {
   "codemirror_mode": {
    "name": "ipython",
    "version": 2
   },
   "file_extension": ".py",
   "mimetype": "text/x-python",
   "name": "python",
   "nbconvert_exporter": "python",
   "pygments_lexer": "ipython2",
   "version": "2.7.6"
  }
 },
 "nbformat": 4,
 "nbformat_minor": 0
}
