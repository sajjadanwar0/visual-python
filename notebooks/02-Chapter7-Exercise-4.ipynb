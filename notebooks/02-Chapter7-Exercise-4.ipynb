{
 "cells": [
  {
   "cell_type": "markdown",
   "source": [
    "### Plotly Pros:\n",
    "1) Visually appealing plots\n",
    "2) Support for many plot types\n",
    "3) Interactive by default\n",
    "4) Official Docs\n",
    "5) Support for saving Images\n",
    "\n",
    "### Cons:\n",
    "1) Plotly express is continuing to evolve\n",
    "2) Some plots, may need data manipulation\n",
    "\n",
    "\n",
    "## Recommendation:\n",
    "1) Great tool for sophisticated exploratory and customized exploratory analysis\n",
    "2) Impressive interactivity and customization with simple API\n",
    "3) Good tool to start and grows with more complex needs\n",
    "4)\n"
   ],
   "metadata": {
    "collapsed": false
   }
  }
 ],
 "metadata": {
  "kernelspec": {
   "display_name": "Python 3",
   "language": "python",
   "name": "python3"
  },
  "language_info": {
   "codemirror_mode": {
    "name": "ipython",
    "version": 2
   },
   "file_extension": ".py",
   "mimetype": "text/x-python",
   "name": "python",
   "nbconvert_exporter": "python",
   "pygments_lexer": "ipython2",
   "version": "2.7.6"
  }
 },
 "nbformat": 4,
 "nbformat_minor": 0
}
