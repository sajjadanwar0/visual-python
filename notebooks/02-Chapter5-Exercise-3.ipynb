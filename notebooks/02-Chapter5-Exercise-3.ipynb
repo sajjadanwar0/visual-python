{
 "cells": [
  {
   "cell_type": "markdown",
   "source": [
    "### Specialized Plots\n",
    "##### Heatmap():  It displays the relationships between the two variables.\n",
    "##### Pairplot(): The pairplots will do the pair wise relationships between the two variables.\n",
    "##### JoinPlot(): The join plot will show the interaction between the two variables, it also shows the bivariate and uni-variate data relationship between the two variables on the axis.\n",
    "\n",
    "##### palplot(): When dealing with the color pallets we can use the palplot---which can be used to see the individuals colors.\n",
    "\n",
    "\n",
    "\n",
    "\n"
   ],
   "metadata": {
    "collapsed": false
   }
  },
  {
   "cell_type": "code",
   "execution_count": null,
   "metadata": {
    "collapsed": true
   },
   "outputs": [],
   "source": []
  }
 ],
 "metadata": {
  "kernelspec": {
   "display_name": "Python 3",
   "language": "python",
   "name": "python3"
  },
  "language_info": {
   "codemirror_mode": {
    "name": "ipython",
    "version": 2
   },
   "file_extension": ".py",
   "mimetype": "text/x-python",
   "name": "python",
   "nbconvert_exporter": "python",
   "pygments_lexer": "ipython2",
   "version": "2.7.6"
  }
 },
 "nbformat": 4,
 "nbformat_minor": 0
}
